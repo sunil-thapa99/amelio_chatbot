{
 "cells": [
  {
   "cell_type": "code",
   "execution_count": 1,
   "metadata": {},
   "outputs": [],
   "source": [
    "import requests\n",
    "import json"
   ]
  },
  {
   "cell_type": "code",
   "execution_count": 4,
   "metadata": {},
   "outputs": [
    {
     "name": "stdout",
     "output_type": "stream",
     "text": [
      "Bot says,  [{'recipient_id': 'default', 'text': \"Hi there. 👋😃 It's such a pleasure to have you here. How may I help you?\", 'buttons': [{'payload': '/select_option{\"option\": \"selected_hr_policy\"}', 'title': 'HR Policy'}]}]\n",
      "Hi there. 👋😃 It's such a pleasure to have you here. How may I help you?\n"
     ]
    }
   ],
   "source": [
    "def send_message(message):\n",
    "    url = 'http://localhost:5005/webhooks/rest/webhook'\n",
    "    r = requests.post(url, json={\"message\": \"Hi\"}, )\n",
    "    print(\"Bot says, \",end=' ')\n",
    "    print(r.json())\n",
    "    for i in r.json():\n",
    "        print(i['text'])\n",
    "\n",
    "send_message(\"Looking for rent\")"
   ]
  },
  {
   "cell_type": "code",
   "execution_count": null,
   "metadata": {},
   "outputs": [],
   "source": []
  }
 ],
 "metadata": {
  "kernelspec": {
   "display_name": "amelio",
   "language": "python",
   "name": "python3"
  },
  "language_info": {
   "codemirror_mode": {
    "name": "ipython",
    "version": 3
   },
   "file_extension": ".py",
   "mimetype": "text/x-python",
   "name": "python",
   "nbconvert_exporter": "python",
   "pygments_lexer": "ipython3",
   "version": "3.9.19"
  }
 },
 "nbformat": 4,
 "nbformat_minor": 2
}
