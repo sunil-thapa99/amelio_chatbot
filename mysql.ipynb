{
 "cells": [
  {
   "cell_type": "code",
   "execution_count": 68,
   "metadata": {},
   "outputs": [],
   "source": [
    "import mysql.connector\n",
    "from mysql.connector import errorcode"
   ]
  },
  {
   "cell_type": "code",
   "execution_count": 103,
   "metadata": {},
   "outputs": [],
   "source": [
    "config = {\n",
    "    'host': '127.0.0.1',  # or your MySQL server host\n",
    "    # Add 'user' and 'password' fields if your MySQL server requires them\n",
    "}"
   ]
  },
  {
   "cell_type": "code",
   "execution_count": 119,
   "metadata": {},
   "outputs": [],
   "source": [
    "cnx = mysql.connector.connect(**config)"
   ]
  },
  {
   "cell_type": "code",
   "execution_count": 120,
   "metadata": {},
   "outputs": [],
   "source": [
    "cursor = cnx.cursor()"
   ]
  },
  {
   "cell_type": "code",
   "execution_count": 121,
   "metadata": {},
   "outputs": [],
   "source": [
    "cursor.execute(\"CREATE DATABASE IF NOT EXISTS amelio\")"
   ]
  },
  {
   "cell_type": "code",
   "execution_count": 122,
   "metadata": {},
   "outputs": [],
   "source": [
    "cursor.execute(\"USE amelio\")"
   ]
  },
  {
   "cell_type": "code",
   "execution_count": 123,
   "metadata": {},
   "outputs": [],
   "source": [
    "cursor.execute(\"DROP TABLE IF EXISTS hr_policy_type\")\n",
    "cursor.execute(\"DROP TABLE IF EXISTS hr_policy\")"
   ]
  },
  {
   "cell_type": "code",
   "execution_count": 124,
   "metadata": {},
   "outputs": [],
   "source": [
    "create_hr_policy_table = \"\"\"\n",
    "    CREATE TABLE IF NOT EXISTS hr_policy (\n",
    "        id INT AUTO_INCREMENT PRIMARY KEY,\n",
    "        policy_name VARCHAR(255) NOT NULL\n",
    "    )\n",
    "    \"\"\""
   ]
  },
  {
   "cell_type": "code",
   "execution_count": 125,
   "metadata": {},
   "outputs": [
    {
     "name": "stdout",
     "output_type": "stream",
     "text": [
      "Table 'hr_policy' created successfully or already exists.\n"
     ]
    }
   ],
   "source": [
    "cursor.execute(create_hr_policy_table)\n",
    "print(\"Table 'hr_policy' created successfully or already exists.\")"
   ]
  },
  {
   "cell_type": "code",
   "execution_count": 126,
   "metadata": {},
   "outputs": [
    {
     "name": "stdout",
     "output_type": "stream",
     "text": [
      "Value 'remote work' inserted into 'hr_policy' table.\n"
     ]
    }
   ],
   "source": [
    "insert_hr_policy = \"INSERT INTO hr_policy (policy_name) VALUES ('remote')\"\n",
    "cursor.execute(insert_hr_policy)\n",
    "print(\"Value 'remote work' inserted into 'hr_policy' table.\")"
   ]
  },
  {
   "cell_type": "code",
   "execution_count": 127,
   "metadata": {},
   "outputs": [],
   "source": [
    "hr_policy_id = cursor.lastrowid"
   ]
  },
  {
   "cell_type": "code",
   "execution_count": 128,
   "metadata": {},
   "outputs": [
    {
     "name": "stdout",
     "output_type": "stream",
     "text": [
      "Table 'hr_policy_type' created successfully or already exists.\n"
     ]
    }
   ],
   "source": [
    "create_hr_policy_type_table = \"\"\"\n",
    "    CREATE TABLE IF NOT EXISTS hr_policy_type (\n",
    "        id INT AUTO_INCREMENT PRIMARY KEY,\n",
    "        policy_type VARCHAR(255) NOT NULL,\n",
    "        hr_policy_id INT,\n",
    "        FOREIGN KEY (hr_policy_id) REFERENCES hr_policy(id)\n",
    "    )\n",
    "    \"\"\"\n",
    "cursor.execute(create_hr_policy_type_table)\n",
    "print(\"Table 'hr_policy_type' created successfully or already exists.\")"
   ]
  },
  {
   "cell_type": "code",
   "execution_count": 129,
   "metadata": {},
   "outputs": [
    {
     "name": "stdout",
     "output_type": "stream",
     "text": [
      "Values inserted into 'hr_policy_type' table.\n"
     ]
    }
   ],
   "source": [
    "insert_hr_policy_type = \"\"\"\n",
    "    INSERT INTO hr_policy_type (policy_type, hr_policy_id)\n",
    "    VALUES \n",
    "        ('Flexible', %s)\n",
    "    \"\"\"\n",
    "cursor.execute(insert_hr_policy_type, (hr_policy_id,))\n",
    "print(\"Values inserted into 'hr_policy_type' table.\")\n"
   ]
  },
  {
   "cell_type": "code",
   "execution_count": 130,
   "metadata": {},
   "outputs": [],
   "source": [
    "# Commit the transactions\n",
    "cnx.commit()"
   ]
  },
  {
   "cell_type": "code",
   "execution_count": 131,
   "metadata": {},
   "outputs": [],
   "source": [
    "insert_hr_policy_type = \"\"\"\n",
    "    INSERT INTO hr_policy_type (policy_type, hr_policy_id)\n",
    "    VALUES \n",
    "        ('non-flexible', %s)\n",
    "    \"\"\"\n",
    "cursor.execute(insert_hr_policy_type, (hr_policy_id,))\n",
    "cnx.commit()\n",
    "insert_hr_policy_type = \"\"\"\n",
    "    INSERT INTO hr_policy_type (policy_type, hr_policy_id)\n",
    "    VALUES \n",
    "        ('onsite', %s)\n",
    "    \"\"\"\n",
    "cursor.execute(insert_hr_policy_type, (hr_policy_id,))\n",
    "cnx.commit()\n",
    "insert_hr_policy_type = \"\"\"\n",
    "    INSERT INTO hr_policy_type (policy_type, hr_policy_id)\n",
    "    VALUES \n",
    "        ('strict', %s)\n",
    "    \"\"\"\n",
    "cursor.execute(insert_hr_policy_type, (hr_policy_id,))\n",
    "cnx.commit()"
   ]
  },
  {
   "cell_type": "code",
   "execution_count": 132,
   "metadata": {},
   "outputs": [
    {
     "name": "stdout",
     "output_type": "stream",
     "text": [
      "\n",
      "Data from 'hr_policy' table:\n",
      "(1, 'remote')\n",
      "\n",
      "Data from 'hr_policy_type' table:\n",
      "(1, 'Flexible', 1)\n",
      "(2, 'non-flexible', 1)\n",
      "(3, 'onsite', 1)\n",
      "(4, 'strict', 1)\n"
     ]
    }
   ],
   "source": [
    "cursor.execute(\"SELECT * FROM hr_policy\")\n",
    "hr_policy_data = cursor.fetchall()\n",
    "print(\"\\nData from 'hr_policy' table:\")\n",
    "for row in hr_policy_data:\n",
    "    print(row)\n",
    "\n",
    "# Fetch data from 'hr_policy_type' table\n",
    "cursor.execute(\"SELECT * FROM hr_policy_type\")\n",
    "hr_policy_type_data = cursor.fetchall()\n",
    "print(\"\\nData from 'hr_policy_type' table:\")\n",
    "for row in hr_policy_type_data:\n",
    "    print(row)"
   ]
  },
  {
   "cell_type": "code",
   "execution_count": 133,
   "metadata": {},
   "outputs": [],
   "source": [
    "cursor.close()\n",
    "cnx.close()"
   ]
  },
  {
   "cell_type": "code",
   "execution_count": 25,
   "metadata": {},
   "outputs": [
    {
     "name": "stdout",
     "output_type": "stream",
     "text": [
      "Collecting fpdf\n",
      "  Using cached fpdf-1.7.2.tar.gz (39 kB)\n",
      "  Preparing metadata (setup.py) ... \u001b[?25ldone\n",
      "\u001b[?25hBuilding wheels for collected packages: fpdf\n",
      "  Building wheel for fpdf (setup.py) ... \u001b[?25ldone\n",
      "\u001b[?25h  Created wheel for fpdf: filename=fpdf-1.7.2-py2.py3-none-any.whl size=40702 sha256=a624d53c0b4d393653b0280b0ffb737ff357ed3523815e87b15ec137ad3ec4db\n",
      "  Stored in directory: /Users/sunilthapa/Library/Caches/pip/wheels/44/35/8b/86ce00cec7e4d13c5f189680ae0fa82f919bedc066c2cddae9\n",
      "Successfully built fpdf\n",
      "Installing collected packages: fpdf\n",
      "Successfully installed fpdf-1.7.2\n"
     ]
    }
   ],
   "source": [
    "!pip install fpdf"
   ]
  },
  {
   "cell_type": "code",
   "execution_count": 63,
   "metadata": {},
   "outputs": [],
   "source": [
    "from fpdf import FPDF\n",
    "\n",
    "class PDF(FPDF):\n",
    "    def header(self):\n",
    "        self.set_font(\"Arial\", \"B\", 12)\n",
    "        self.cell(0, 10, \"Flexible Work Policy\", 0, 1, \"C\")\n",
    "\n",
    "    def chapter_title(self, title):\n",
    "        self.set_font(\"Arial\", \"B\", 12)\n",
    "        self.cell(0, 10, title, 0, 1, \"L\")\n",
    "\n",
    "    def chapter_body(self, body):\n",
    "        self.set_font(\"Arial\", size=12)\n",
    "        self.multi_cell(0, 10, body)\n",
    "        self.ln()\n",
    "\n",
    "    def add_checkbox(self, x, y, text, width=185):\n",
    "        self.set_xy(x, y)\n",
    "        self.set_font(\"Arial\", size=12)\n",
    "        self.cell(10, 10, \"-\", 0, 0)\n",
    "        self.set_x(x + 10)\n",
    "        self.multi_cell(width, 10, text, 0, 1)"
   ]
  },
  {
   "cell_type": "code",
   "execution_count": 64,
   "metadata": {},
   "outputs": [],
   "source": [
    "# Create instance of PDF class\n",
    "pdf = PDF()"
   ]
  },
  {
   "cell_type": "code",
   "execution_count": 65,
   "metadata": {},
   "outputs": [],
   "source": [
    "# Add a page\n",
    "pdf.add_page()"
   ]
  },
  {
   "cell_type": "code",
   "execution_count": 66,
   "metadata": {},
   "outputs": [],
   "source": [
    "# Add policy text\n",
    "policy_text = \"\"\"\n",
    "Flexible Work Policy\n",
    "\n",
    "1. Objective: The objective of this policy is to outline the provisions for flexible work arrangements, including remote work, flexible hours, and hybrid work setups.\n",
    "\n",
    "2. Eligibility: All full-time and part-time employees who have completed their probationary period are eligible to request flexible work arrangements.\n",
    "\n",
    "3. Procedure:\n",
    "   - Employees should submit a written request to their immediate supervisor.\n",
    "   - The request must include details of the proposed arrangement and the reasons for the request.\n",
    "   - Supervisors will review the request and may consult with HR before making a decision.\n",
    "\n",
    "4. Approval: Approval of flexible work arrangements is at the discretion of management and will be based on the role, department needs, and individual performance.\n",
    "\n",
    "5. Review and Monitoring:\n",
    "   - Flexible work arrangements will be reviewed periodically to ensure they continue to meet the needs of the organization and the employee.\n",
    "   - Employees may be required to attend the office on specific days or for specific meetings as determined by their supervisor.\n",
    "\n",
    "6. Termination: Management reserves the right to terminate or modify flexible work arrangements with reasonable notice.\n",
    "\n",
    "7. Responsibilities:\n",
    "   - Employees must ensure they have a suitable work environment and necessary equipment.\n",
    "   - Employees are responsible for maintaining productivity and meeting performance standards.\n",
    "\n",
    "8. Confidentiality: Employees must adhere to the organization's confidentiality and data protection policies while working flexibly.\n",
    "\n",
    "9. Health and Safety: Employees must comply with health and safety guidelines while working from home or any other location.\n",
    "\n",
    "10. Communication: Employees must remain accessible and maintain regular communication with their team and supervisor.\n",
    "\n",
    "This policy is subject to change based on organizational needs and will be reviewed annually.\n",
    "\"\"\""
   ]
  },
  {
   "cell_type": "code",
   "execution_count": 67,
   "metadata": {},
   "outputs": [
    {
     "name": "stdout",
     "output_type": "stream",
     "text": [
      "PDF created and saved as Flexible_Work_Policy.pdf\n"
     ]
    }
   ],
   "source": [
    "pdf.chapter_body(policy_text)\n",
    "\n",
    "# Add checkboxes\n",
    "pdf.add_checkbox(10, pdf.get_y(), \"Flexible hours: Employees can choose their start and end times, with a mandatory core period (e.g., from 10 AM to 3 PM).\")\n",
    "pdf.add_checkbox(10, pdf.get_y(), \"Remote work: e.g. Employees can work remotely up to 2 days per week, with their manager's approval.\")\n",
    "pdf.add_checkbox(10, pdf.get_y(), \"Compressed workweek: Employees can work their weekly hours in fewer days (e.g., four days instead of five).\")\n",
    "pdf.add_checkbox(10, pdf.get_y(), \"Part-time work: Employees can choose to work part-time for a determined or undetermined period, with their manager's approval.\")\n",
    "pdf.add_checkbox(10, pdf.get_y(), \"Unpaid leave: Employees can take unpaid leave in addition to their paid leave, subject to approval.\")\n",
    "pdf.add_checkbox(10, pdf.get_y(), \"Irregular schedule: Employees can follow a personalized schedule where their working hours are not fixed from day to day, but their total working hours and pay remain the same.\")\n",
    "pdf.add_checkbox(10, pdf.get_y(), \"Job sharing: Two employees can share the responsibilities of a single full-time position, with reduced working hours and shared responsibilities.\")\n",
    "\n",
    "# Save the pdf with name .pdf\n",
    "pdf.output(\"Flexible_Work_Policy.pdf\")\n",
    "\n",
    "print(\"PDF created and saved as Flexible_Work_Policy.pdf\")\n"
   ]
  },
  {
   "cell_type": "code",
   "execution_count": null,
   "metadata": {},
   "outputs": [],
   "source": []
  }
 ],
 "metadata": {
  "kernelspec": {
   "display_name": "amelio",
   "language": "python",
   "name": "python3"
  },
  "language_info": {
   "codemirror_mode": {
    "name": "ipython",
    "version": 3
   },
   "file_extension": ".py",
   "mimetype": "text/x-python",
   "name": "python",
   "nbconvert_exporter": "python",
   "pygments_lexer": "ipython3",
   "version": "3.9.19"
  }
 },
 "nbformat": 4,
 "nbformat_minor": 2
}
